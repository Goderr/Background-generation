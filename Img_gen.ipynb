{
  "nbformat": 4,
  "nbformat_minor": 0,
  "metadata": {
    "colab": {
      "provenance": [],
      "gpuType": "T4",
      "private_outputs": true,
      "mount_file_id": "1-nfzB3N8cZ_HnDxUbRXr4mqxp72E0Q1p",
      "authorship_tag": "ABX9TyP3DwYOM1XQv4kTMB+/SmjG",
      "include_colab_link": true
    },
    "kernelspec": {
      "name": "python3",
      "display_name": "Python 3"
    },
    "language_info": {
      "name": "python"
    },
    "accelerator": "GPU"
  },
  "cells": [
    {
      "cell_type": "markdown",
      "metadata": {
        "id": "view-in-github",
        "colab_type": "text"
      },
      "source": [
        "<a href=\"https://colab.research.google.com/github/Goderr/Background-generation/blob/main/Img_gen.ipynb\" target=\"_parent\"><img src=\"https://colab.research.google.com/assets/colab-badge.svg\" alt=\"Open In Colab\"/></a>"
      ]
    },
    {
      "cell_type": "code",
      "source": [
        "!pip install git+https://github.com/facebookresearch/segment-anything.git\n",
        "!pip install gradio\n",
        "!pip install diffusers[\"torch\"] transformers"
      ],
      "metadata": {
        "id": "w8m6ADaCO7r8"
      },
      "execution_count": null,
      "outputs": []
    },
    {
      "cell_type": "code",
      "source": [
        "import gradio as gr\n",
        "import numpy as np\n",
        "import torch\n",
        "from diffusers import StableDiffusionInpaintPipeline\n",
        "from PIL import Image\n",
        "from segment_anything import SamPredictor, sam_model_registry\n",
        "\n",
        "\n",
        "checkpoint = \"/content/drive/MyDrive/sam_vit_h_4b8939.pth\"\n",
        "\n",
        "model_type = \"vit_h\"\n",
        "\n",
        "device = \"cuda\"\n",
        "low_cpu_mem_usage=True\n",
        "\n",
        "sam = sam_model_registry[model_type](checkpoint=checkpoint)\n",
        "sam.to(device)\n",
        "predictor = SamPredictor(sam)\n",
        "\n",
        "pipe = StableDiffusionInpaintPipeline.from_pretrained(\n",
        "    \"stabilityai/stable-diffusion-2-inpainting\",\n",
        "    torch_dtype=torch.float16,\n",
        ")\n",
        "pipe.to(\"cuda\")\n",
        "\n",
        "with gr.Blocks() as demo:\n",
        "    with gr.Row():\n",
        "        input_img = gr.Image(label=\"Input\")\n",
        "        mask_img = gr.Image(label=\"Mask\")\n",
        "        output_img = gr.Image(label=\"Output\")\n",
        "\n",
        "    with gr.Blocks():\n",
        "        prompt_text = gr.Textbox(lines=1, label=\"Prompt\")\n",
        "\n",
        "    with gr.Row():\n",
        "        submit = gr.Button(\"Submit\")\n",
        "\n",
        "    selected_pixels = [] #List to store the pixel of the mask region of image\n",
        "    def generate_mask(image, evt:gr.SelectData):\n",
        "        selected_pixels.append(evt.index)\n",
        "\n",
        "        predictor.set_image(image)\n",
        "        input_points = np.array(selected_pixels)\n",
        "        input_label = np.ones(input_points.shape[0])\n",
        "        mask,_,_ = predictor.predict(\n",
        "            point_coords=input_points,\n",
        "            point_labels=input_label,\n",
        "            multimask_output=False #Only one mask on the product\n",
        "        )\n",
        "\n",
        "        mask = np.logical_not(mask)\n",
        "        mask = Image.fromarray(mask[0,:,:])\n",
        "        return mask\n",
        "\n",
        "    def inpaint(img, mask, prompt):\n",
        "        img = Image.fromarray(img)\n",
        "        mask = Image.fromarray(mask)\n",
        "\n",
        "        img = img.resize((512,512))\n",
        "        mask = mask.resize((512,512))\n",
        "\n",
        "        output = pipe(\n",
        "            prompt= prompt,\n",
        "            image=img,\n",
        "            mask_image=mask,\n",
        "        ).images[0]\n",
        "\n",
        "        return output\n",
        "\n",
        "    input_img.select(generate_mask, [input_img], [mask_img])\n",
        "    submit.click(inpaint, inputs=[input_img, mask_img, prompt_text], outputs=[output_img])\n",
        "\n",
        "if __name__ == \"__main__\":\n",
        "    demo.launch()"
      ],
      "metadata": {
        "id": "I4ZL6OQ6N9nQ"
      },
      "execution_count": null,
      "outputs": []
    },
    {
      "cell_type": "code",
      "source": [],
      "metadata": {
        "id": "5gCrnu2FN9f9"
      },
      "execution_count": null,
      "outputs": []
    },
    {
      "cell_type": "code",
      "source": [],
      "metadata": {
        "id": "3q195WSTN9Xn"
      },
      "execution_count": null,
      "outputs": []
    },
    {
      "cell_type": "code",
      "source": [],
      "metadata": {
        "id": "sXpPId_TN8Bq"
      },
      "execution_count": null,
      "outputs": []
    }
  ]
}